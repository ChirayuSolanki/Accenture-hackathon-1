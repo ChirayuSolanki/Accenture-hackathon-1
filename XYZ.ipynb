{
 "cells": [
  {
   "cell_type": "code",
   "execution_count": 2,
   "id": "44273806",
   "metadata": {},
   "outputs": [],
   "source": [
    "import json\n",
    "\n",
    "with open (r\"C:\\Users\\bhate\\AppData\\Local\\Microsoft\\Windows\\INetCache\\IE\\ACJQHL0Q\\parsed_resumes[1].json\",'r',encoding='utf-8')as f:\n",
    "    parsed_resumes = json.load(f)"
   ]
  },
  {
   "cell_type": "code",
   "execution_count": 1,
   "id": "f9864abb",
   "metadata": {},
   "outputs": [],
   "source": [
    "from json_to_sqlite import ResumeDatabase"
   ]
  },
  {
   "cell_type": "code",
   "execution_count": 2,
   "id": "292f636c",
   "metadata": {},
   "outputs": [],
   "source": [
    "db = ResumeDatabase()"
   ]
  },
  {
   "cell_type": "code",
   "execution_count": 3,
   "id": "a47e4e00",
   "metadata": {},
   "outputs": [
    {
     "name": "stdout",
     "output_type": "stream",
     "text": [
      "✅ Inserted new resume with ID: 1\n",
      "✅ Inserted new resume with ID: 2\n",
      "✅ Inserted new resume with ID: 3\n",
      "✅ Inserted new resume with ID: 4\n"
     ]
    }
   ],
   "source": [
    "import sqlite3\n",
    "import json\n",
    "\n",
    "# Example: List of resume dictionaries\n",
    "resume_data_list = parsed_resumes\n",
    "\n",
    "def create_table(conn):\n",
    "    cursor = conn.cursor()\n",
    "    cursor.execute('''\n",
    "        CREATE TABLE IF NOT EXISTS resumes (\n",
    "            id INTEGER PRIMARY KEY AUTOINCREMENT,\n",
    "            name TEXT,\n",
    "            email TEXT,\n",
    "            phone TEXT,\n",
    "            skills TEXT,\n",
    "            education TEXT,\n",
    "            experience TEXT,\n",
    "            certifications TEXT,\n",
    "            achievements TEXT,\n",
    "            tech_stack TEXT,\n",
    "            resume_id TEXT UNIQUE\n",
    "        )\n",
    "    ''')\n",
    "    conn.commit()\n",
    "\n",
    "def resume_exists(conn, resume_id):\n",
    "    cursor = conn.cursor()\n",
    "    cursor.execute('SELECT id FROM resumes WHERE resume_id = ?', (json.dumps(resume_id),))\n",
    "    return cursor.fetchone() is not None\n",
    "\n",
    "def insert_resume(conn, resume):\n",
    "    cursor = conn.cursor()\n",
    "    cursor.execute('''\n",
    "        INSERT INTO resumes (name, email, phone, skills, education, experience, certifications, achievements, tech_stack, resume_id)\n",
    "        VALUES (?, ?, ?, ?, ?, ?, ?, ?, ?, ?)\n",
    "    ''', (\n",
    "        resume.get(\"name\"),\n",
    "        resume.get(\"email\"),\n",
    "        resume.get(\"phone\"),\n",
    "        json.dumps(resume.get(\"skills\")),\n",
    "        json.dumps(resume.get(\"education\")),\n",
    "        json.dumps(resume.get(\"experience\")),\n",
    "        json.dumps(resume.get(\"certifications\")),\n",
    "        json.dumps(resume.get(\"achievements\")),\n",
    "        json.dumps(resume.get(\"tech_stack\")),\n",
    "        json.dumps(resume.get(\"resume_id\"))\n",
    "    ))\n",
    "    conn.commit()\n",
    "    return cursor.lastrowid\n",
    "\n",
    "# Main\n",
    "if __name__ == \"__main__\":\n",
    "    conn = sqlite3.connect(\"resumes.db\")\n",
    "    create_table(conn)\n",
    "\n",
    "    for resume in resume_data_list:\n",
    "        resume_id = resume.get(\"resume_id\")\n",
    "        if resume_id and not resume_exists(conn, resume_id):\n",
    "            new_id = insert_resume(conn, resume)\n",
    "            print(f\"✅ Inserted new resume with ID: {new_id}\")\n",
    "        else:\n",
    "            print(f\"⚠️ Resume with ID {resume_id} already exists. Skipping...\")\n",
    "\n",
    "    conn.close()\n"
   ]
  },
  {
   "cell_type": "code",
   "execution_count": null,
   "id": "6dd1bdfd",
   "metadata": {},
   "outputs": [],
   "source": []
  }
 ],
 "metadata": {
  "kernelspec": {
   "display_name": "venv",
   "language": "python",
   "name": "python3"
  },
  "language_info": {
   "codemirror_mode": {
    "name": "ipython",
    "version": 3
   },
   "file_extension": ".py",
   "mimetype": "text/x-python",
   "name": "python",
   "nbconvert_exporter": "python",
   "pygments_lexer": "ipython3",
   "version": "3.11.6"
  }
 },
 "nbformat": 4,
 "nbformat_minor": 5
}
